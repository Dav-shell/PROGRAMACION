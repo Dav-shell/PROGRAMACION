{
 "cells": [
  {
   "cell_type": "code",
   "execution_count": 6,
   "id": "ddea07f6-8940-40a5-b48a-2d6c02c63f4b",
   "metadata": {},
   "outputs": [
    {
     "data": {
      "text/plain": [
       "Int64"
      ]
     },
     "execution_count": 6,
     "metadata": {},
     "output_type": "execute_result"
    }
   ],
   "source": [
    "typeof(3)\n"
   ]
  },
  {
   "cell_type": "code",
   "execution_count": 3,
   "id": "554ff67a-d655-44a9-ada5-17eaff6bfe06",
   "metadata": {},
   "outputs": [
    {
     "data": {
      "text/plain": [
       "Float64"
      ]
     },
     "execution_count": 3,
     "metadata": {},
     "output_type": "execute_result"
    }
   ],
   "source": [
    "typeof(3.2)\n"
   ]
  },
  {
   "cell_type": "code",
   "execution_count": 4,
   "id": "efee798f-0a16-40df-8210-d8c9b0d7b43f",
   "metadata": {},
   "outputs": [
    {
     "data": {
      "text/plain": [
       "Complex{Int64}"
      ]
     },
     "execution_count": 4,
     "metadata": {},
     "output_type": "execute_result"
    }
   ],
   "source": [
    "typeof(2+1im)\n"
   ]
  },
  {
   "cell_type": "code",
   "execution_count": 5,
   "id": "a41b296c-c2a7-4be0-aa75-d5d7726b2a4b",
   "metadata": {},
   "outputs": [
    {
     "data": {
      "text/plain": [
       "Rational{Int64}"
      ]
     },
     "execution_count": 5,
     "metadata": {},
     "output_type": "execute_result"
    }
   ],
   "source": [
    "typeof(2//3)"
   ]
  },
  {
   "cell_type": "code",
   "execution_count": 7,
   "id": "1c83e72d-11f9-4ea0-b883-dc9678a8afd7",
   "metadata": {},
   "outputs": [
    {
     "data": {
      "text/plain": [
       "2"
      ]
     },
     "execution_count": 7,
     "metadata": {},
     "output_type": "execute_result"
    }
   ],
   "source": [
    "1+1"
   ]
  },
  {
   "cell_type": "code",
   "execution_count": 8,
   "id": "a0f9b4da-e968-4441-a18b-71be6eafcab9",
   "metadata": {},
   "outputs": [
    {
     "data": {
      "text/plain": [
       "7"
      ]
     },
     "execution_count": 8,
     "metadata": {},
     "output_type": "execute_result"
    }
   ],
   "source": [
    "8-1"
   ]
  },
  {
   "cell_type": "code",
   "execution_count": 9,
   "id": "1aa16bdf-6739-42cf-8ab7-1bfcff89e7de",
   "metadata": {},
   "outputs": [
    {
     "data": {
      "text/plain": [
       "20"
      ]
     },
     "execution_count": 9,
     "metadata": {},
     "output_type": "execute_result"
    }
   ],
   "source": [
    "10*2"
   ]
  },
  {
   "cell_type": "code",
   "execution_count": 10,
   "id": "3a091580-0027-4d10-b152-8a33d94aac1c",
   "metadata": {},
   "outputs": [
    {
     "data": {
      "text/plain": [
       "7.0"
      ]
     },
     "execution_count": 10,
     "metadata": {},
     "output_type": "execute_result"
    }
   ],
   "source": [
    "35/5"
   ]
  },
  {
   "cell_type": "code",
   "execution_count": 11,
   "id": "97edc4c1-4371-4c28-b2d5-ee3cccd6ca2e",
   "metadata": {},
   "outputs": [
    {
     "data": {
      "text/plain": [
       "5.0"
      ]
     },
     "execution_count": 11,
     "metadata": {},
     "output_type": "execute_result"
    }
   ],
   "source": [
    "10/2"
   ]
  },
  {
   "cell_type": "code",
   "execution_count": 12,
   "id": "4cef5dd1-d67e-43ef-8356-19373c304dfd",
   "metadata": {},
   "outputs": [
    {
     "data": {
      "text/plain": [
       "2"
      ]
     },
     "execution_count": 12,
     "metadata": {},
     "output_type": "execute_result"
    }
   ],
   "source": [
    "div(5,2)\n"
   ]
  },
  {
   "cell_type": "code",
   "execution_count": 13,
   "id": "7b3abd6d-6a91-40db-8b4b-08ee46647b46",
   "metadata": {},
   "outputs": [
    {
     "data": {
      "text/plain": [
       "0.14285714285714285"
      ]
     },
     "execution_count": 13,
     "metadata": {},
     "output_type": "execute_result"
    }
   ],
   "source": [
    "5/35"
   ]
  },
  {
   "cell_type": "code",
   "execution_count": 14,
   "id": "f0eeab5e-df90-47f3-add8-9f230aab8b15",
   "metadata": {},
   "outputs": [
    {
     "data": {
      "text/plain": [
       "4"
      ]
     },
     "execution_count": 14,
     "metadata": {},
     "output_type": "execute_result"
    }
   ],
   "source": [
    "2^2"
   ]
  },
  {
   "cell_type": "code",
   "execution_count": 15,
   "id": "b12d55f8-8b8c-4eb4-9b8a-bef6fb1afb51",
   "metadata": {},
   "outputs": [
    {
     "data": {
      "text/plain": [
       "2"
      ]
     },
     "execution_count": 15,
     "metadata": {},
     "output_type": "execute_result"
    }
   ],
   "source": [
    "12%10"
   ]
  },
  {
   "cell_type": "code",
   "execution_count": 16,
   "id": "0ee85ba1-8852-4347-8d73-eff064aea8ca",
   "metadata": {},
   "outputs": [
    {
     "data": {
      "text/plain": [
       "2"
      ]
     },
     "execution_count": 16,
     "metadata": {},
     "output_type": "execute_result"
    }
   ],
   "source": [
    "a=1+1"
   ]
  },
  {
   "cell_type": "code",
   "execution_count": 17,
   "id": "71d9e61a-a4e7-47ab-94a0-091f4fc85d4c",
   "metadata": {},
   "outputs": [
    {
     "data": {
      "text/plain": [
       "2"
      ]
     },
     "execution_count": 17,
     "metadata": {},
     "output_type": "execute_result"
    }
   ],
   "source": [
    "a"
   ]
  },
  {
   "cell_type": "code",
   "execution_count": 18,
   "id": "ee7e2e02-d7cc-4ed6-9346-63bf22e0a504",
   "metadata": {},
   "outputs": [
    {
     "data": {
      "text/plain": [
       "7"
      ]
     },
     "execution_count": 18,
     "metadata": {},
     "output_type": "execute_result"
    }
   ],
   "source": [
    "b=8-1"
   ]
  },
  {
   "cell_type": "code",
   "execution_count": 19,
   "id": "8433e8ad-c70a-4d9f-aa38-43487639c417",
   "metadata": {},
   "outputs": [
    {
     "data": {
      "text/plain": [
       "20"
      ]
     },
     "execution_count": 19,
     "metadata": {},
     "output_type": "execute_result"
    }
   ],
   "source": [
    "c=10*2"
   ]
  },
  {
   "cell_type": "code",
   "execution_count": 20,
   "id": "a1987572-229f-46e9-9644-5e66c7cb1ebf",
   "metadata": {},
   "outputs": [
    {
     "data": {
      "text/plain": [
       "7.0"
      ]
     },
     "execution_count": 20,
     "metadata": {},
     "output_type": "execute_result"
    }
   ],
   "source": [
    "d=35/5"
   ]
  },
  {
   "cell_type": "code",
   "execution_count": 21,
   "id": "3d8b3a7d-ca95-45c4-899a-dd22442237c4",
   "metadata": {},
   "outputs": [
    {
     "data": {
      "text/plain": [
       "5.0"
      ]
     },
     "execution_count": 21,
     "metadata": {},
     "output_type": "execute_result"
    }
   ],
   "source": [
    "e=10/2"
   ]
  },
  {
   "cell_type": "code",
   "execution_count": 22,
   "id": "09acf9ce-5949-46fe-b2ba-a8d39b9eb9a2",
   "metadata": {},
   "outputs": [
    {
     "data": {
      "text/plain": [
       "2"
      ]
     },
     "execution_count": 22,
     "metadata": {},
     "output_type": "execute_result"
    }
   ],
   "source": [
    "f=div(5,2)"
   ]
  },
  {
   "cell_type": "code",
   "execution_count": 23,
   "id": "8745147c-6026-4296-9086-d0376b834d57",
   "metadata": {},
   "outputs": [
    {
     "data": {
      "text/plain": [
       "0.14285714285714285"
      ]
     },
     "execution_count": 23,
     "metadata": {},
     "output_type": "execute_result"
    }
   ],
   "source": [
    "g=5/35"
   ]
  },
  {
   "cell_type": "code",
   "execution_count": 24,
   "id": "d4d25ed1-bbcb-4ede-9e74-588d454addaa",
   "metadata": {},
   "outputs": [
    {
     "data": {
      "text/plain": [
       "4"
      ]
     },
     "execution_count": 24,
     "metadata": {},
     "output_type": "execute_result"
    }
   ],
   "source": [
    "h=2^2"
   ]
  },
  {
   "cell_type": "code",
   "execution_count": 25,
   "id": "b9f7c8e2-906e-4930-89fe-e365dbbf058a",
   "metadata": {},
   "outputs": [
    {
     "data": {
      "text/plain": [
       "2"
      ]
     },
     "execution_count": 25,
     "metadata": {},
     "output_type": "execute_result"
    }
   ],
   "source": [
    "i=12%10"
   ]
  },
  {
   "cell_type": "code",
   "execution_count": 27,
   "id": "5ec593d8-92b0-4a39-96d0-ae79904663f2",
   "metadata": {},
   "outputs": [
    {
     "name": "stdout",
     "output_type": "stream",
     "text": [
      "4"
     ]
    }
   ],
   "source": [
    "print(h)"
   ]
  },
  {
   "cell_type": "code",
   "execution_count": 28,
   "id": "88a436ee-13ab-418b-85df-229a82cb218c",
   "metadata": {},
   "outputs": [
    {
     "name": "stdin",
     "output_type": "stream",
     "text": [
      "stdin>  a\n"
     ]
    },
    {
     "data": {
      "text/plain": [
       "\"a\""
      ]
     },
     "execution_count": 28,
     "metadata": {},
     "output_type": "execute_result"
    }
   ],
   "source": [
    "aa=readline()"
   ]
  },
  {
   "cell_type": "code",
   "execution_count": 29,
   "id": "c539bd6d-3afe-4285-88b1-fa4536fae352",
   "metadata": {},
   "outputs": [
    {
     "data": {
      "text/plain": [
       "\"a\""
      ]
     },
     "execution_count": 29,
     "metadata": {},
     "output_type": "execute_result"
    }
   ],
   "source": [
    "aa"
   ]
  },
  {
   "cell_type": "code",
   "execution_count": 31,
   "id": "d91ffa6f-f451-4405-9301-289b8c2a0f32",
   "metadata": {},
   "outputs": [
    {
     "name": "stdout",
     "output_type": "stream",
     "text": [
      "String\n"
     ]
    }
   ],
   "source": [
    "println(typeof(aa))"
   ]
  },
  {
   "cell_type": "code",
   "execution_count": null,
   "id": "7717e227-75e1-499b-adf3-22a609940e0d",
   "metadata": {},
   "outputs": [],
   "source": []
  }
 ],
 "metadata": {
  "kernelspec": {
   "display_name": "Julia 1.9.3",
   "language": "julia",
   "name": "julia-1.9"
  },
  "language_info": {
   "file_extension": ".jl",
   "mimetype": "application/julia",
   "name": "julia",
   "version": "1.9.3"
  }
 },
 "nbformat": 4,
 "nbformat_minor": 5
}
